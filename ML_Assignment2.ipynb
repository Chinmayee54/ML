{
  "nbformat": 4,
  "nbformat_minor": 0,
  "metadata": {
    "colab": {
      "provenance": [],
      "authorship_tag": "ABX9TyPYNoO1cYceXFiFuwqq9oDG",
      "include_colab_link": true
    },
    "kernelspec": {
      "name": "python3",
      "display_name": "Python 3"
    },
    "language_info": {
      "name": "python"
    }
  },
  "cells": [
    {
      "cell_type": "markdown",
      "metadata": {
        "id": "view-in-github",
        "colab_type": "text"
      },
      "source": [
        "<a href=\"https://colab.research.google.com/github/Chinmayee54/ML/blob/main/ML_Assignment2.ipynb\" target=\"_parent\"><img src=\"https://colab.research.google.com/assets/colab-badge.svg\" alt=\"Open In Colab\"/></a>"
      ]
    },
    {
      "cell_type": "code",
      "execution_count": 1,
      "metadata": {
        "colab": {
          "base_uri": "https://localhost:8080/"
        },
        "id": "FSkHA3EBBRgO",
        "outputId": "55cca746-ca0d-4a05-f007-ed207b666f17"
      },
      "outputs": [
        {
          "output_type": "stream",
          "name": "stdout",
          "text": [
            "* \n",
            "* * \n",
            "* * * \n",
            "* * * * \n",
            "* * * * * \n",
            "* * * * \n",
            "* * * \n",
            "* * \n",
            "* \n"
          ]
        }
      ],
      "source": [
        "#Question 1\n",
        "for i in range(5):\n",
        "  print('* '*(i+1))\n",
        "for i in range(4,0,-1):\n",
        "  print('* '*(i))"
      ]
    },
    {
      "cell_type": "code",
      "source": [
        "#Question 2\n",
        "my_list = [10, 20, 30, 40, 50, 60, 70, 80, 90, 100]\n",
        "for i in range(1,len(my_list),2):\n",
        "  print(my_list[i],end=\" \")"
      ],
      "metadata": {
        "colab": {
          "base_uri": "https://localhost:8080/"
        },
        "id": "hzC_kpIABsXk",
        "outputId": "bb36df4c-0d8b-4e47-d315-99440c3e450d"
      },
      "execution_count": 2,
      "outputs": [
        {
          "output_type": "stream",
          "name": "stdout",
          "text": [
            "20 40 60 80 100 "
          ]
        }
      ]
    },
    {
      "cell_type": "code",
      "source": [
        "#Question 3\n",
        "x = [23, 'Python', 23.98]\n",
        "print(x)\n",
        "t = []\n",
        "for i in x:\n",
        "  t.append(type(i))\n",
        "print(t)"
      ],
      "metadata": {
        "colab": {
          "base_uri": "https://localhost:8080/"
        },
        "id": "cI0KUyc2BvG4",
        "outputId": "5f53c27c-1008-4687-c544-8b8dcf85f15c"
      },
      "execution_count": 3,
      "outputs": [
        {
          "output_type": "stream",
          "name": "stdout",
          "text": [
            "[23, 'Python', 23.98]\n",
            "[<class 'int'>, <class 'str'>, <class 'float'>]\n"
          ]
        }
      ]
    },
    {
      "cell_type": "code",
      "source": [
        "#Question 4\n",
        "def unique(list1):\n",
        "  list2=list(set(list1))\n",
        "  return list2\n",
        "\n",
        "list1= [1,2,3,3,3,3,4,5]\n",
        "print(unique(list1))"
      ],
      "metadata": {
        "colab": {
          "base_uri": "https://localhost:8080/"
        },
        "id": "ECGJzDirCK7n",
        "outputId": "2bd2593f-b846-4582-8125-67d24f25b15f"
      },
      "execution_count": 4,
      "outputs": [
        {
          "output_type": "stream",
          "name": "stdout",
          "text": [
            "[1, 2, 3, 4, 5]\n"
          ]
        }
      ]
    },
    {
      "cell_type": "code",
      "source": [
        "#Question 5\n",
        "def case(str):\n",
        "  upper,lower=0,0\n",
        "  for i in str:\n",
        "    if(i.isupper()):\n",
        "      upper+=1\n",
        "    elif(i.islower()):\n",
        "      lower+=1\n",
        "  print('No. of Upper-case characters: ',upper)\n",
        "  print('No. of Lower-case characters: ',lower)\n",
        "\n",
        "str=input()\n",
        "case(str)\n"
      ],
      "metadata": {
        "colab": {
          "base_uri": "https://localhost:8080/"
        },
        "id": "RKBi8j1XCNwU",
        "outputId": "fef42618-4f8e-4265-a31e-f99bd521925a"
      },
      "execution_count": 5,
      "outputs": [
        {
          "output_type": "stream",
          "name": "stdout",
          "text": [
            "The quick Brow Fox\n",
            "No. of Upper-case characters:  3\n",
            "No. of Lower-case characters:  12\n"
          ]
        }
      ]
    }
  ]
}
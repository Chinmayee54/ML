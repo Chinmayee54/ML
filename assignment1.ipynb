{
  "nbformat": 4,
  "nbformat_minor": 0,
  "metadata": {
    "colab": {
      "provenance": [],
      "include_colab_link": true
    },
    "kernelspec": {
      "name": "python3",
      "display_name": "Python 3"
    },
    "language_info": {
      "name": "python"
    }
  },
  "cells": [
    {
      "cell_type": "markdown",
      "metadata": {
        "id": "view-in-github",
        "colab_type": "text"
      },
      "source": [
        "<a href=\"https://colab.research.google.com/github/Chinmayee54/ML/blob/main/assignment1.ipynb\" target=\"_parent\"><img src=\"https://colab.research.google.com/assets/colab-badge.svg\" alt=\"Open In Colab\"/></a>"
      ]
    },
    {
      "cell_type": "code",
      "execution_count": 54,
      "metadata": {
        "colab": {
          "base_uri": "https://localhost:8080/"
        },
        "id": "TTFQUvR3U5Iq",
        "outputId": "57759bed-8398-48fd-df52-29b926781dc9"
      },
      "outputs": [
        {
          "output_type": "stream",
          "name": "stdout",
          "text": [
            "Sorted list of ages:  [19, 19, 19, 20, 22, 24, 24, 24, 25, 25, 26, 26]\n",
            "Minimum Age:  19\n",
            "Maximum Age:  26\n",
            "Median:  24.0\n",
            "Average age:  22.75\n",
            "Range of the ages:  7\n"
          ]
        }
      ],
      "source": [
        "#Question 1\n",
        "ages = [19, 22, 19, 24, 20, 25, 26, 24, 25, 24] \n",
        "\n",
        "#sorting the list\n",
        "ages.sort()\n",
        "\n",
        "#minimum of ages list\n",
        "min_age = min(ages)\n",
        "\n",
        "#maximum of ages list\n",
        "max_age = max(ages)\n",
        "\n",
        "#adding min and max ages to the list\n",
        "ages.insert(0,min_age)\n",
        "ages.insert(len(ages)-1,max_age)\n",
        "\n",
        "\"\"\" Insertion of multiple elements to list can be done using extend\n",
        "ages.extend([min_age, max_age])\"\"\"\n",
        "\n",
        "#median age\n",
        "ages.sort()\n",
        "ages_length = len(ages)\n",
        "median_age = (ages[ages_length//2]+ages[(ages_length//2)+1])/2 if (ages_length%2==0) else ages[ages_length//2]\n",
        "\n",
        "#average age\n",
        "average_age = sum(ages)/ages_length\n",
        "\n",
        "#range of the ages\n",
        "range_of_ages = max_age - min_age\n",
        "\n",
        "#printing out all the variables\n",
        "print(\"Sorted list of ages: \",ages)\n",
        "print(\"Minimum Age: \", min_age)\n",
        "print(\"Maximum Age: \", max_age)\n",
        "print(\"Median: \", median_age)\n",
        "print(\"Average age: \", average_age)\n",
        "print(\"Range of the ages: \",range_of_ages)"
      ]
    },
    {
      "cell_type": "code",
      "source": [
        "#Question 2\n",
        "#creating an empty dictionary\n",
        "dog = dict()\n",
        "\n",
        "#adding fields to the dictionary\n",
        "key_list = [\"name\",\"color\",\"breed\",\"legs\",\"age\"]\n",
        "dog = {key: input(\"Enter value for %s: \"%(key)) for key in key_list}\n",
        "\n",
        "#creating student dictionary and adding fields\n",
        "student={\"first_name\":\"Chinmayee\", \"last_name\":\"Pendyala\",\"gender\":\"Female\",\"age\":22,\"marital status\":\"Single\",\"skills\":[\"Java\",\"python\"],\"country\":\"USA\",\"city\":\"Kansas City\",\"Address\":\"1234 W 15 Ter\"}\n",
        "\n",
        "#Getting the length of the student dictionary\n",
        "print(\"Length of student dictionary: \",len(student))\n",
        "\n",
        "#Getting the value of skills and checking the data type\n",
        "print(\"Skills: \",student[\"skills\"],\"; Data Type: \", type(student[\"skills\"]))\n",
        "\n",
        "#Modifying the skills values by adding one or two skills\n",
        "student[\"skills\"]+=[\"nodeJS\", \"Spring Microservices\"]\n",
        "\n",
        "#Getting the dictionary keys as a list\n",
        "print(\"List of Keys in Student dictionary: \",list(student.keys()))\n",
        "print(\"List of Keys in dog dictionary: \",list(dog.keys()))\n",
        "\n",
        "#Getting the dictionary values as a list\n",
        "print(\"Values in Student: \",list(student.values()))\n",
        "print(\"List of values in dog dictionary: \",list(dog.values()))\n"
      ],
      "metadata": {
        "colab": {
          "base_uri": "https://localhost:8080/"
        },
        "id": "9TNvrJtQZkK8",
        "outputId": "e8f4d808-9436-4053-ba0e-a93edb62a0ac"
      },
      "execution_count": null,
      "outputs": [
        {
          "output_type": "stream",
          "name": "stdout",
          "text": [
            "Enter value for name: snoopy\n",
            "Enter value for color: white\n",
            "Enter value for breed: pomeranian\n",
            "Enter value for legs: 4\n",
            "Enter value for age: 7\n",
            "Length of student dictionary:  9\n",
            "Skills:  ['Java', 'python'] ; Data Type:  <class 'list'>\n",
            "List of Keys in Student dictionary:  ['first_name', 'last_name', 'gender', 'age', 'marital status', 'skills', 'country', 'city', 'Address']\n",
            "List of Keys in dog dictionary:  ['name', 'color', 'breed', 'legs', 'age']\n",
            "Values in Student:  ['Chinmayee', 'Pendyala', 'Female', 22, 'Single', ['Java', 'python', 'nodeJS', 'Spring Microservices'], 'USA', 'Kansas City', '1234 W 15 Ter']\n",
            "List of values in dog dictionary:  ['snoopy', 'white', 'pomeranian', '4', '7']\n"
          ]
        }
      ]
    },
    {
      "cell_type": "code",
      "source": [
        "#Question 3\n",
        "#Creating tuples\n",
        "brothers=(\"Karthik\",\"Haranadh\")\n",
        "sisters=(\"Swathi\",\"Manaswini\")\n",
        "\n",
        "#Joining brothers and sisters tuples and assigning it to siblings\n",
        "siblings = brothers + sisters\n",
        "print(\"Siblings: \",siblings)\n",
        "\n",
        "#Number of siblings\n",
        "print(\"Length of siblings tuple: \",len(siblings))\n",
        "\n",
        "\"\"\"Modifying the siblings tuple and adding the name of father and mother and assigning it to\n",
        "family_members\"\"\"\n",
        "family_members = siblings + (\"Prasad\", \"Lakshmi\")\n",
        "print(\"Family Members: \",family_members)"
      ],
      "metadata": {
        "colab": {
          "base_uri": "https://localhost:8080/"
        },
        "id": "etCSwIbOo-4A",
        "outputId": "f07d3173-6608-4f31-ffaf-4acb178b9da0"
      },
      "execution_count": null,
      "outputs": [
        {
          "output_type": "stream",
          "name": "stdout",
          "text": [
            "Siblings:  ('Karthik', 'Haranadh', 'Swathi', 'Manaswini')\n",
            "Length of siblings tuple:  4\n",
            "Family Members:  ('Karthik', 'Haranadh', 'Swathi', 'Manaswini', 'Prasad', 'Lakshmi')\n"
          ]
        }
      ]
    },
    {
      "cell_type": "code",
      "source": [
        "#Question 4\n",
        "it_companies = {'Facebook', 'Google', 'Microsoft', 'Apple', 'IBM', 'Oracle', 'Amazon'}\n",
        "A = {19, 22, 24, 20, 25, 26}\n",
        "B = {19, 22, 20, 25, 26, 24, 28, 27}\n",
        "age = [22, 19, 24, 25, 26, 24, 25, 24]\n",
        "\n",
        "#length of the set it_companies\n",
        "print(\"Length of set it_companies: \",len(it_companies))\n",
        "\n",
        "#Adding 'Twitter' to it_companies\n",
        "it_companies.add(\"Twitter\")\n",
        "print(\"After insertion of one element: \",it_companies)\n",
        "\n",
        "#Inserting multiple IT companies at once to the set it_companies\n",
        "it_companies.update((\"Instagram\", \"Flipkart\"))\n",
        "print(\"After insertion of multiple elements: \",it_companies)\n",
        "\n",
        "#Removing one of the companies from the set it_companies\n",
        "it_companies.remove(\"Twitter\")\n",
        "print(\"After removal: \", it_companies)\n",
        "\n",
        "#Difference between remove and discard\n",
        "\"\"\"remove throws an Exception if the element mentioned is not present in the set\n",
        "whereas discard will not throw an exception\n",
        "For Example the below line with remove throws an exception since element 'Twitter' is not present in the set it_companies\n",
        "whereas discard will not throw any exception even if the element 'Wipro' is abscent in the set\n",
        "it_companies.remove(\"Twitter\") \"\"\"\n",
        "it_companies.discard(\"Wipro\")\n",
        "\n",
        "#Joining A and B\n",
        "print(\"Join A and B\",(A | B))\n",
        "\n",
        "#A intersection B\n",
        "print(\"A intersection B: \",A & B)\n",
        "\n",
        "#Is A subset of B?\n",
        "print(\"Is A subset of B? \",A.issubset(B))\n",
        "\n",
        "#Are A and B disjoint sets\n",
        "print(\"Are A and B disjoint sets? \",A.isdisjoint(B))\n",
        "\n",
        "#Join A with B and B with A\n",
        "print(\"Joining A with B: \",A|B)\n",
        "print(\"Joining B with A: \",B|A)\n",
        "\n",
        "#What is the symmetric difference between A and B\n",
        "print(\"Symmetric difference between A and B: \",A^B)\n",
        "\n",
        "#Delete the sets completely\n",
        "del A\n",
        "del B\n",
        "\"\"\" Since A and B sets are deleted the below line will throw an exception\n",
        "print(A,B)\"\"\"\n",
        "\n",
        "#Converting the ages to a set and comparing the length of the list and the set.\n",
        "ages = set(age)\n",
        "print(\"Length of list age: \",len(age))\n",
        "print(\"Length of set ages: \",len(ages))\n",
        "#Length of the set ages will be less than that of the list age due to the absence of duplicate elements "
      ],
      "metadata": {
        "colab": {
          "base_uri": "https://localhost:8080/"
        },
        "id": "SOqI-n8Wx3bp",
        "outputId": "c48c4e48-5032-4482-fead-01771704548e"
      },
      "execution_count": null,
      "outputs": [
        {
          "output_type": "stream",
          "name": "stdout",
          "text": [
            "Length of set it_companies:  7\n",
            "After insertion of one element:  {'Facebook', 'Apple', 'Oracle', 'Twitter', 'Amazon', 'IBM', 'Microsoft', 'Google'}\n",
            "After insertion of multiple elements:  {'Facebook', 'Instagram', 'Apple', 'Oracle', 'Twitter', 'Amazon', 'IBM', 'Microsoft', 'Flipkart', 'Google'}\n",
            "After removal:  {'Facebook', 'Instagram', 'Apple', 'Oracle', 'Amazon', 'IBM', 'Microsoft', 'Flipkart', 'Google'}\n",
            "Join A and B {19, 20, 22, 24, 25, 26, 27, 28}\n",
            "A intersection B:  {19, 20, 22, 24, 25, 26}\n",
            "Is A subset of B?  True\n",
            "Are A and B disjoint sets?  False\n",
            "Joining A with B:  {19, 20, 22, 24, 25, 26, 27, 28}\n",
            "Joining B with A:  {19, 20, 22, 24, 25, 26, 27, 28}\n",
            "Symmetric difference between A and B:  {27, 28}\n",
            "Length of list age:  8\n",
            "Length of set ages:  5\n"
          ]
        }
      ]
    },
    {
      "cell_type": "code",
      "source": [
        "#Question 5\n",
        "radius = 30\n",
        "\n",
        "#Area of a circle\n",
        "_area_of_circle_ = (22/7)*(radius**2)\n",
        "print(\"Area of circle: \",round(_area_of_circle_,2))\n",
        "\n",
        "#Circumference of a circle\n",
        "_circum_of_circle_ = (44/7)*(radius)\n",
        "print(\"Circumference of circle: \",round(_circum_of_circle_,2))\n",
        "\n",
        "#Taking radius as user input and calculating the area.\n",
        "radius = int(input(\"Enter radius value:\"))\n",
        "area_of_circle = (22/7)*(radius**2)\n",
        "print(\"Area of circle with radius %d : \"%(radius),round(area_of_circle,2))"
      ],
      "metadata": {
        "colab": {
          "base_uri": "https://localhost:8080/"
        },
        "id": "iurEVTlsy5Od",
        "outputId": "33173626-270d-4b84-dc05-ba8f635bd9ef"
      },
      "execution_count": null,
      "outputs": [
        {
          "output_type": "stream",
          "name": "stdout",
          "text": [
            "Area of circle:  2828.57\n",
            "Circumference of circle:  188.57\n",
            "Enter radius value:5\n",
            "Area of circle with radius 5 :  78.57\n"
          ]
        }
      ]
    },
    {
      "cell_type": "code",
      "source": [
        "#Question 6\n",
        "\n",
        "input_string = \"I am a teacher and I love to inspire and teach people\"\n",
        "\n",
        "#Finding out the unique words in the sentence\n",
        "list_of_words = set(input_string.split(\" \"))\n",
        "print(\"Number of unique words in the sentence: \",len(list_of_words))"
      ],
      "metadata": {
        "colab": {
          "base_uri": "https://localhost:8080/"
        },
        "id": "IfRgK2Ng0Gq7",
        "outputId": "e0e87e09-d0bd-44b8-98f0-0eb0ae29c567"
      },
      "execution_count": null,
      "outputs": [
        {
          "output_type": "stream",
          "name": "stdout",
          "text": [
            "Number of unique words in the sentence:  10\n"
          ]
        }
      ]
    },
    {
      "cell_type": "code",
      "source": [
        "#Question 7\n",
        "\n",
        "#Using a tab escape sequence\n",
        "print(\"Name\\t\\tAge\\tCountry\\t\\tCity\\nAsaabeneh\\t250\\tFinland\\t\\tHelsinki\")\n"
      ],
      "metadata": {
        "colab": {
          "base_uri": "https://localhost:8080/"
        },
        "id": "038FFw2J0s-g",
        "outputId": "a923aa30-8179-4c33-c939-f64de8a82a24"
      },
      "execution_count": null,
      "outputs": [
        {
          "output_type": "stream",
          "name": "stdout",
          "text": [
            "Name\t\tAge\tCountry\t\tCity\n",
            "Asaabeneh\t250\tFinland\t\tHelsinki\n"
          ]
        }
      ]
    },
    {
      "cell_type": "code",
      "source": [
        "#Question 8\n",
        "\n",
        "#Using the string formatting method for displaying\n",
        "radius = 10\n",
        "area = 3.14 * radius ** 2\n",
        "print(\"The area of a circle with radius %d is %d meters square.\"%(radius,area))\n"
      ],
      "metadata": {
        "colab": {
          "base_uri": "https://localhost:8080/"
        },
        "id": "bCxPfCUn1m51",
        "outputId": "0a4587bf-8f8a-4af2-a67d-565ab2b40c93"
      },
      "execution_count": null,
      "outputs": [
        {
          "output_type": "stream",
          "name": "stdout",
          "text": [
            "The area of a circle with radius 10 is 314 meters square.\n"
          ]
        }
      ]
    },
    {
      "cell_type": "code",
      "source": [
        "#Question 9 \n",
        "'''Program which reads weights (lbs.) of N students into a list and converts these weights to\n",
        "kilograms in a separate list using Loop. N: No of students '''\n",
        "N=int(input(\"Enter number of students: \"))\n",
        "lbs=[]\n",
        "kgs=[]\n",
        "for index in range(N):\n",
        "  lb = int(input(\"enter weight of student %d: \"%(index)))\n",
        "  lbs.append(lb)\n",
        "  kgs.append(round(lb*0.453592,2))\n",
        "print(\"List of weights in kgs: \")\n",
        "print(kgs)"
      ],
      "metadata": {
        "colab": {
          "base_uri": "https://localhost:8080/"
        },
        "id": "ajwQaZLe2UbV",
        "outputId": "bd55d068-7f32-4f47-f317-c1c5e70ad632"
      },
      "execution_count": 61,
      "outputs": [
        {
          "output_type": "stream",
          "name": "stdout",
          "text": [
            "Enter number of students: 4\n",
            "enter weight of student 0: 150\n",
            "enter weight of student 1: 5\n",
            "enter weight of student 2: 145\n",
            "enter weight of student 3: 148\n",
            "List of weights in kgs: \n",
            "[68.04, 2.27, 65.77, 67.13]\n"
          ]
        }
      ]
    },
    {
      "cell_type": "code",
      "source": [],
      "metadata": {
        "id": "RWBqq2QZ5fWq"
      },
      "execution_count": null,
      "outputs": []
    }
  ]
}